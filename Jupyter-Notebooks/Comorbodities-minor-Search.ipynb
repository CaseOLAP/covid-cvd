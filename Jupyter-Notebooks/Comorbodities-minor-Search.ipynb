{
 "cells": [
  {
   "cell_type": "markdown",
   "metadata": {},
   "source": [
    "## Document Search : Comorbidities Minor"
   ]
  },
  {
   "cell_type": "code",
   "execution_count": 38,
   "metadata": {},
   "outputs": [],
   "source": [
    "import sys\n",
    "import json\n",
    "import pandas as pd\n",
    "from elasticsearch import Elasticsearch\n",
    "from elasticsearch_dsl import Search, Q\n",
    "from collections import Counter"
   ]
  },
  {
   "cell_type": "markdown",
   "metadata": {},
   "source": [
    "#### Entity Preparation"
   ]
  },
  {
   "cell_type": "code",
   "execution_count": 39,
   "metadata": {},
   "outputs": [],
   "source": [
    "with open(\"input/comorb-minor.json\",'r')as fin:\n",
    "    comorb = json.load(fin)"
   ]
  },
  {
   "cell_type": "code",
   "execution_count": 40,
   "metadata": {},
   "outputs": [],
   "source": [
    "meshtree_file = \"input/mtrees2021.bin\""
   ]
  },
  {
   "cell_type": "code",
   "execution_count": 41,
   "metadata": {},
   "outputs": [],
   "source": [
    "DT = {\"cerebrovascular disorders\":[]}\n",
    "with open(meshtree_file, \"r\") as ftree:\n",
    "    for line in ftree:\n",
    "        term_tree = line.strip().split(\";\")\n",
    "        cur_term = term_tree[0]\n",
    "        cur_tree = term_tree[1]\n",
    "        \n",
    "        if cur_tree[0:11] == \"C14.907.253\":\n",
    "            #print(cur_term)\n",
    "            DT[\"cerebrovascular disorders\"].append(cur_term)"
   ]
  },
  {
   "cell_type": "code",
   "execution_count": 42,
   "metadata": {},
   "outputs": [],
   "source": [
    "#DT['cerebrovascular disorders']"
   ]
  },
  {
   "cell_type": "code",
   "execution_count": 43,
   "metadata": {},
   "outputs": [],
   "source": [
    "comorb.update({'cerebrovascular disorders': DT[\"cerebrovascular disorders\"]})"
   ]
  },
  {
   "cell_type": "code",
   "execution_count": 44,
   "metadata": {},
   "outputs": [],
   "source": [
    "#comorb"
   ]
  },
  {
   "cell_type": "markdown",
   "metadata": {},
   "source": [
    "#### Entity search"
   ]
  },
  {
   "cell_type": "code",
   "execution_count": 48,
   "metadata": {},
   "outputs": [],
   "source": [
    "with open('data/t2pmid-covid.json','r')as f2:\n",
    "    t2pmid = json.load(f2)"
   ]
  },
  {
   "cell_type": "code",
   "execution_count": 49,
   "metadata": {},
   "outputs": [
    {
     "data": {
      "text/html": [
       "<div>\n",
       "<style scoped>\n",
       "    .dataframe tbody tr th:only-of-type {\n",
       "        vertical-align: middle;\n",
       "    }\n",
       "\n",
       "    .dataframe tbody tr th {\n",
       "        vertical-align: top;\n",
       "    }\n",
       "\n",
       "    .dataframe thead th {\n",
       "        text-align: right;\n",
       "    }\n",
       "</style>\n",
       "<table border=\"1\" class=\"dataframe\">\n",
       "  <thead>\n",
       "    <tr style=\"text-align: right;\">\n",
       "      <th></th>\n",
       "      <th>pmid</th>\n",
       "      <th>mesh</th>\n",
       "      <th>date</th>\n",
       "      <th>title</th>\n",
       "      <th>abstract</th>\n",
       "    </tr>\n",
       "  </thead>\n",
       "  <tbody>\n",
       "    <tr>\n",
       "      <th>0</th>\n",
       "      <td>32071063</td>\n",
       "      <td>[]</td>\n",
       "      <td>{'Year': '2020', 'Month': 'Feb', 'Day': '18', ...</td>\n",
       "      <td>Coronavirus covid-19 has killed more people th...</td>\n",
       "      <td></td>\n",
       "    </tr>\n",
       "    <tr>\n",
       "      <th>1</th>\n",
       "      <td>32072794</td>\n",
       "      <td>[]</td>\n",
       "      <td>{'Year': '2020', 'Month': '02', 'Day': '19', '...</td>\n",
       "      <td>[Cluster investigation Technical Guidelines fo...</td>\n",
       "      <td></td>\n",
       "    </tr>\n",
       "    <tr>\n",
       "      <th>2</th>\n",
       "      <td>32086235</td>\n",
       "      <td>[]</td>\n",
       "      <td>{'Year': '2020', 'Month': 'Feb', 'Day': '21', ...</td>\n",
       "      <td>Rules on isolation rooms for suspected covid-1...</td>\n",
       "      <td></td>\n",
       "    </tr>\n",
       "    <tr>\n",
       "      <th>3</th>\n",
       "      <td>32087216</td>\n",
       "      <td>['Betacoronavirus', 'genetics', 'pathogenicity...</td>\n",
       "      <td>{'Year': '2020', 'Month': '04', 'Day': '', 'Se...</td>\n",
       "      <td>A Novel Coronavirus (COVID-19) Outbreak: A Cal...</td>\n",
       "      <td></td>\n",
       "    </tr>\n",
       "    <tr>\n",
       "      <th>4</th>\n",
       "      <td>32093043</td>\n",
       "      <td>[]</td>\n",
       "      <td>{'Year': '2020', 'Month': 'Feb', 'Day': '19', ...</td>\n",
       "      <td>Risk Assessment of Novel Coronavirus COVID-19 ...</td>\n",
       "      <td>we developed a computational tool to assess th...</td>\n",
       "    </tr>\n",
       "  </tbody>\n",
       "</table>\n",
       "</div>"
      ],
      "text/plain": [
       "       pmid                                               mesh  \\\n",
       "0  32071063                                                 []   \n",
       "1  32072794                                                 []   \n",
       "2  32086235                                                 []   \n",
       "3  32087216  ['Betacoronavirus', 'genetics', 'pathogenicity...   \n",
       "4  32093043                                                 []   \n",
       "\n",
       "                                                date  \\\n",
       "0  {'Year': '2020', 'Month': 'Feb', 'Day': '18', ...   \n",
       "1  {'Year': '2020', 'Month': '02', 'Day': '19', '...   \n",
       "2  {'Year': '2020', 'Month': 'Feb', 'Day': '21', ...   \n",
       "3  {'Year': '2020', 'Month': '04', 'Day': '', 'Se...   \n",
       "4  {'Year': '2020', 'Month': 'Feb', 'Day': '19', ...   \n",
       "\n",
       "                                               title  \\\n",
       "0  Coronavirus covid-19 has killed more people th...   \n",
       "1  [Cluster investigation Technical Guidelines fo...   \n",
       "2  Rules on isolation rooms for suspected covid-1...   \n",
       "3  A Novel Coronavirus (COVID-19) Outbreak: A Cal...   \n",
       "4  Risk Assessment of Novel Coronavirus COVID-19 ...   \n",
       "\n",
       "                                            abstract  \n",
       "0                                                     \n",
       "1                                                     \n",
       "2                                                     \n",
       "3                                                     \n",
       "4  we developed a computational tool to assess th...  "
      ]
     },
     "execution_count": 49,
     "metadata": {},
     "output_type": "execute_result"
    }
   ],
   "source": [
    "tdf = pd.DataFrame(t2pmid)\n",
    "tdf.head()"
   ]
  },
  {
   "cell_type": "code",
   "execution_count": 50,
   "metadata": {},
   "outputs": [
    {
     "data": {
      "text/plain": [
       "(80732, 5)"
      ]
     },
     "execution_count": 50,
     "metadata": {},
     "output_type": "execute_result"
    }
   ],
   "source": [
    "tdf.shape"
   ]
  },
  {
   "cell_type": "code",
   "execution_count": 51,
   "metadata": {},
   "outputs": [
    {
     "data": {
      "text/plain": [
       "80732"
      ]
     },
     "execution_count": 51,
     "metadata": {},
     "output_type": "execute_result"
    }
   ],
   "source": [
    "covid_pmids = list(set(tdf['pmid']))\n",
    "len(covid_pmids)"
   ]
  },
  {
   "cell_type": "markdown",
   "metadata": {},
   "source": [
    "#### Count Comorb Publications "
   ]
  },
  {
   "cell_type": "code",
   "execution_count": 69,
   "metadata": {},
   "outputs": [],
   "source": [
    "n2count = {}\n",
    "n2pmid = {}\n",
    "n2pmidset = {}\n",
    "allpmids = []\n",
    "for name in comorb:\n",
    "    n2count[name] = 0\n",
    "    n2pmid[name] = 0\n",
    "    n2pmidset[name] = []\n",
    "    \n",
    "            \n",
    "for pmid,title,abstract,mesh in  zip(tdf['pmid'],tdf['title'],tdf['abstract'],tdf['mesh']):\n",
    "    \n",
    "        \n",
    "    for name, entities in comorb.items():\n",
    "        tn = 0\n",
    "        for entity in entities:\n",
    "            \n",
    "            n_title = title.count(entity)\n",
    "            tn = tn+n_title\n",
    "            \n",
    "            if len(abstract)>1:\n",
    "                text = abstract\n",
    "                \n",
    "            n_abs = text.count(entity)\n",
    "            tn = tn+n_abs\n",
    "            \n",
    "            n_mesh = mesh.count(entity)\n",
    "            tn = tn+n_mesh\n",
    "            \n",
    "        n2count[name] = n2count[name] + tn\n",
    "        \n",
    "        if tn>0:\n",
    "            n2pmid[name] = n2pmid[name] + 1\n",
    "            n2pmidset[name].append(pmid)\n",
    "            allpmids.append(pmid)\n",
    "                "
   ]
  },
  {
   "cell_type": "code",
   "execution_count": 70,
   "metadata": {},
   "outputs": [],
   "source": [
    "with open('result/n2pmidset-comorb-minor.json','w')as f3:\n",
    "    json.dump(n2pmidset,f3)"
   ]
  },
  {
   "cell_type": "code",
   "execution_count": 71,
   "metadata": {},
   "outputs": [
    {
     "data": {
      "text/plain": [
       "4851"
      ]
     },
     "execution_count": 71,
     "metadata": {},
     "output_type": "execute_result"
    }
   ],
   "source": [
    "len(set(allpmids))"
   ]
  },
  {
   "cell_type": "markdown",
   "metadata": {},
   "source": [
    "#### Individual Comorb Document count"
   ]
  },
  {
   "cell_type": "code",
   "execution_count": 73,
   "metadata": {},
   "outputs": [],
   "source": [
    "Data = []\n",
    "for name, count in n2pmid.items():\n",
    "    Data.append({\"Name\":name,\"Text Datasets\": count})\n",
    "    \n",
    "df = pd.DataFrame(Data)\n",
    "df.to_csv(\"result/comorb-count-minor.csv\")"
   ]
  },
  {
   "cell_type": "markdown",
   "metadata": {},
   "source": [
    "#### Covid Symptoms and Comorb"
   ]
  },
  {
   "cell_type": "code",
   "execution_count": 75,
   "metadata": {},
   "outputs": [],
   "source": [
    "with open('result/name2pmidset-covid.json','r')as f4:\n",
    "    n2pmidset_covid = json.load(f4)"
   ]
  },
  {
   "cell_type": "code",
   "execution_count": 76,
   "metadata": {},
   "outputs": [],
   "source": [
    "Data = []\n",
    "allpmid = []\n",
    "for name1, pmids1 in n2pmidset_covid.items():\n",
    "    data = {}\n",
    "    data.update({\"covid symptoms\" : name1})\n",
    "                \n",
    "    for name2, pmids2 in n2pmidset.items():\n",
    "        ints = set(pmids1).intersection(set(pmids2))\n",
    "        \n",
    "        for item in list(ints):\n",
    "            allpmid.append(item)\n",
    "            \n",
    "        data.update({name2:len(set(ints))})\n",
    "    \n",
    "    Data.append(data)\n",
    "        "
   ]
  },
  {
   "cell_type": "code",
   "execution_count": 77,
   "metadata": {},
   "outputs": [
    {
     "data": {
      "text/plain": [
       "816"
      ]
     },
     "execution_count": 77,
     "metadata": {},
     "output_type": "execute_result"
    }
   ],
   "source": [
    "len(list(set(allpmid)))"
   ]
  },
  {
   "cell_type": "code",
   "execution_count": 78,
   "metadata": {},
   "outputs": [],
   "source": [
    "cdf = pd.DataFrame(Data)\n",
    "#cdf.to_csv(\"covid-comorb-minor.csv\")"
   ]
  },
  {
   "cell_type": "code",
   "execution_count": 79,
   "metadata": {},
   "outputs": [],
   "source": [
    "cdf = cdf.set_index(\"covid symptoms\")"
   ]
  },
  {
   "cell_type": "code",
   "execution_count": 80,
   "metadata": {},
   "outputs": [
    {
     "data": {
      "text/html": [
       "<div>\n",
       "<style scoped>\n",
       "    .dataframe tbody tr th:only-of-type {\n",
       "        vertical-align: middle;\n",
       "    }\n",
       "\n",
       "    .dataframe tbody tr th {\n",
       "        vertical-align: top;\n",
       "    }\n",
       "\n",
       "    .dataframe thead th {\n",
       "        text-align: right;\n",
       "    }\n",
       "</style>\n",
       "<table border=\"1\" class=\"dataframe\">\n",
       "  <thead>\n",
       "    <tr style=\"text-align: right;\">\n",
       "      <th>covid symptoms</th>\n",
       "      <th>fever</th>\n",
       "      <th>chills</th>\n",
       "      <th>cough</th>\n",
       "      <th>fatigue</th>\n",
       "      <th>shortness of breath</th>\n",
       "      <th>sore throat</th>\n",
       "      <th>rhinorrhea</th>\n",
       "      <th>diarrhea</th>\n",
       "      <th>vomiting</th>\n",
       "      <th>nausea</th>\n",
       "      <th>headache</th>\n",
       "      <th>myalgia</th>\n",
       "      <th>ageusia</th>\n",
       "      <th>confusion</th>\n",
       "      <th>chest pain</th>\n",
       "      <th>anosmia</th>\n",
       "      <th>cyanosis</th>\n",
       "      <th>hypersomnia</th>\n",
       "    </tr>\n",
       "  </thead>\n",
       "  <tbody>\n",
       "    <tr>\n",
       "      <th>acquired immunodeficiency syndrome</th>\n",
       "      <td>0</td>\n",
       "      <td>0</td>\n",
       "      <td>0</td>\n",
       "      <td>0</td>\n",
       "      <td>0</td>\n",
       "      <td>0</td>\n",
       "      <td>0</td>\n",
       "      <td>0</td>\n",
       "      <td>0</td>\n",
       "      <td>0</td>\n",
       "      <td>0</td>\n",
       "      <td>0</td>\n",
       "      <td>0</td>\n",
       "      <td>0</td>\n",
       "      <td>0</td>\n",
       "      <td>0</td>\n",
       "      <td>0</td>\n",
       "      <td>0</td>\n",
       "    </tr>\n",
       "    <tr>\n",
       "      <th>asthma</th>\n",
       "      <td>51</td>\n",
       "      <td>2</td>\n",
       "      <td>59</td>\n",
       "      <td>18</td>\n",
       "      <td>44</td>\n",
       "      <td>12</td>\n",
       "      <td>5</td>\n",
       "      <td>10</td>\n",
       "      <td>12</td>\n",
       "      <td>6</td>\n",
       "      <td>11</td>\n",
       "      <td>15</td>\n",
       "      <td>9</td>\n",
       "      <td>2</td>\n",
       "      <td>11</td>\n",
       "      <td>13</td>\n",
       "      <td>1</td>\n",
       "      <td>0</td>\n",
       "    </tr>\n",
       "    <tr>\n",
       "      <th>bone marrow transplantation</th>\n",
       "      <td>5</td>\n",
       "      <td>0</td>\n",
       "      <td>0</td>\n",
       "      <td>0</td>\n",
       "      <td>0</td>\n",
       "      <td>0</td>\n",
       "      <td>0</td>\n",
       "      <td>0</td>\n",
       "      <td>0</td>\n",
       "      <td>0</td>\n",
       "      <td>0</td>\n",
       "      <td>0</td>\n",
       "      <td>0</td>\n",
       "      <td>0</td>\n",
       "      <td>0</td>\n",
       "      <td>0</td>\n",
       "      <td>0</td>\n",
       "      <td>0</td>\n",
       "    </tr>\n",
       "    <tr>\n",
       "      <th>cerebrovascular disorders</th>\n",
       "      <td>35</td>\n",
       "      <td>4</td>\n",
       "      <td>29</td>\n",
       "      <td>10</td>\n",
       "      <td>14</td>\n",
       "      <td>0</td>\n",
       "      <td>0</td>\n",
       "      <td>2</td>\n",
       "      <td>3</td>\n",
       "      <td>2</td>\n",
       "      <td>35</td>\n",
       "      <td>15</td>\n",
       "      <td>10</td>\n",
       "      <td>8</td>\n",
       "      <td>0</td>\n",
       "      <td>16</td>\n",
       "      <td>0</td>\n",
       "      <td>0</td>\n",
       "    </tr>\n",
       "    <tr>\n",
       "      <th>cystic fibrosis</th>\n",
       "      <td>1</td>\n",
       "      <td>1</td>\n",
       "      <td>0</td>\n",
       "      <td>0</td>\n",
       "      <td>0</td>\n",
       "      <td>0</td>\n",
       "      <td>0</td>\n",
       "      <td>0</td>\n",
       "      <td>0</td>\n",
       "      <td>0</td>\n",
       "      <td>0</td>\n",
       "      <td>0</td>\n",
       "      <td>0</td>\n",
       "      <td>0</td>\n",
       "      <td>0</td>\n",
       "      <td>0</td>\n",
       "      <td>0</td>\n",
       "      <td>0</td>\n",
       "    </tr>\n",
       "    <tr>\n",
       "      <th>dementia</th>\n",
       "      <td>8</td>\n",
       "      <td>1</td>\n",
       "      <td>8</td>\n",
       "      <td>10</td>\n",
       "      <td>7</td>\n",
       "      <td>1</td>\n",
       "      <td>1</td>\n",
       "      <td>0</td>\n",
       "      <td>0</td>\n",
       "      <td>2</td>\n",
       "      <td>4</td>\n",
       "      <td>1</td>\n",
       "      <td>1</td>\n",
       "      <td>10</td>\n",
       "      <td>0</td>\n",
       "      <td>3</td>\n",
       "      <td>0</td>\n",
       "      <td>0</td>\n",
       "    </tr>\n",
       "    <tr>\n",
       "      <th>hiv</th>\n",
       "      <td>48</td>\n",
       "      <td>16</td>\n",
       "      <td>46</td>\n",
       "      <td>24</td>\n",
       "      <td>25</td>\n",
       "      <td>2</td>\n",
       "      <td>5</td>\n",
       "      <td>11</td>\n",
       "      <td>12</td>\n",
       "      <td>11</td>\n",
       "      <td>15</td>\n",
       "      <td>16</td>\n",
       "      <td>9</td>\n",
       "      <td>2</td>\n",
       "      <td>7</td>\n",
       "      <td>9</td>\n",
       "      <td>0</td>\n",
       "      <td>0</td>\n",
       "    </tr>\n",
       "    <tr>\n",
       "      <th>hypertension</th>\n",
       "      <td>378</td>\n",
       "      <td>23</td>\n",
       "      <td>313</td>\n",
       "      <td>100</td>\n",
       "      <td>243</td>\n",
       "      <td>45</td>\n",
       "      <td>7</td>\n",
       "      <td>46</td>\n",
       "      <td>26</td>\n",
       "      <td>22</td>\n",
       "      <td>75</td>\n",
       "      <td>57</td>\n",
       "      <td>6</td>\n",
       "      <td>11</td>\n",
       "      <td>30</td>\n",
       "      <td>38</td>\n",
       "      <td>5</td>\n",
       "      <td>0</td>\n",
       "    </tr>\n",
       "    <tr>\n",
       "      <th>immunosuppressive agents</th>\n",
       "      <td>3</td>\n",
       "      <td>2</td>\n",
       "      <td>4</td>\n",
       "      <td>1</td>\n",
       "      <td>3</td>\n",
       "      <td>0</td>\n",
       "      <td>1</td>\n",
       "      <td>1</td>\n",
       "      <td>0</td>\n",
       "      <td>0</td>\n",
       "      <td>0</td>\n",
       "      <td>0</td>\n",
       "      <td>1</td>\n",
       "      <td>0</td>\n",
       "      <td>0</td>\n",
       "      <td>1</td>\n",
       "      <td>0</td>\n",
       "      <td>0</td>\n",
       "    </tr>\n",
       "    <tr>\n",
       "      <th>liver diseases</th>\n",
       "      <td>8</td>\n",
       "      <td>3</td>\n",
       "      <td>5</td>\n",
       "      <td>1</td>\n",
       "      <td>1</td>\n",
       "      <td>1</td>\n",
       "      <td>0</td>\n",
       "      <td>3</td>\n",
       "      <td>2</td>\n",
       "      <td>3</td>\n",
       "      <td>1</td>\n",
       "      <td>2</td>\n",
       "      <td>0</td>\n",
       "      <td>0</td>\n",
       "      <td>0</td>\n",
       "      <td>1</td>\n",
       "      <td>0</td>\n",
       "      <td>0</td>\n",
       "    </tr>\n",
       "    <tr>\n",
       "      <th>pulmonary fibrosis</th>\n",
       "      <td>20</td>\n",
       "      <td>1</td>\n",
       "      <td>8</td>\n",
       "      <td>4</td>\n",
       "      <td>12</td>\n",
       "      <td>0</td>\n",
       "      <td>0</td>\n",
       "      <td>1</td>\n",
       "      <td>0</td>\n",
       "      <td>0</td>\n",
       "      <td>1</td>\n",
       "      <td>0</td>\n",
       "      <td>1</td>\n",
       "      <td>1</td>\n",
       "      <td>0</td>\n",
       "      <td>0</td>\n",
       "      <td>0</td>\n",
       "      <td>0</td>\n",
       "    </tr>\n",
       "    <tr>\n",
       "      <th>thalassemia</th>\n",
       "      <td>1</td>\n",
       "      <td>0</td>\n",
       "      <td>1</td>\n",
       "      <td>0</td>\n",
       "      <td>6</td>\n",
       "      <td>0</td>\n",
       "      <td>0</td>\n",
       "      <td>0</td>\n",
       "      <td>0</td>\n",
       "      <td>0</td>\n",
       "      <td>0</td>\n",
       "      <td>0</td>\n",
       "      <td>0</td>\n",
       "      <td>0</td>\n",
       "      <td>0</td>\n",
       "      <td>0</td>\n",
       "      <td>0</td>\n",
       "      <td>0</td>\n",
       "    </tr>\n",
       "  </tbody>\n",
       "</table>\n",
       "</div>"
      ],
      "text/plain": [
       "covid symptoms                      fever  chills  cough  fatigue  \\\n",
       "acquired immunodeficiency syndrome      0       0      0        0   \n",
       "asthma                                 51       2     59       18   \n",
       "bone marrow transplantation             5       0      0        0   \n",
       "cerebrovascular disorders              35       4     29       10   \n",
       "cystic fibrosis                         1       1      0        0   \n",
       "dementia                                8       1      8       10   \n",
       "hiv                                    48      16     46       24   \n",
       "hypertension                          378      23    313      100   \n",
       "immunosuppressive agents                3       2      4        1   \n",
       "liver diseases                          8       3      5        1   \n",
       "pulmonary fibrosis                     20       1      8        4   \n",
       "thalassemia                             1       0      1        0   \n",
       "\n",
       "covid symptoms                      shortness of breath  sore throat   \\\n",
       "acquired immunodeficiency syndrome                    0             0   \n",
       "asthma                                               44            12   \n",
       "bone marrow transplantation                           0             0   \n",
       "cerebrovascular disorders                            14             0   \n",
       "cystic fibrosis                                       0             0   \n",
       "dementia                                              7             1   \n",
       "hiv                                                  25             2   \n",
       "hypertension                                        243            45   \n",
       "immunosuppressive agents                              3             0   \n",
       "liver diseases                                        1             1   \n",
       "pulmonary fibrosis                                   12             0   \n",
       "thalassemia                                           6             0   \n",
       "\n",
       "covid symptoms                      rhinorrhea  diarrhea  vomiting  nausea  \\\n",
       "acquired immunodeficiency syndrome           0         0         0       0   \n",
       "asthma                                       5        10        12       6   \n",
       "bone marrow transplantation                  0         0         0       0   \n",
       "cerebrovascular disorders                    0         2         3       2   \n",
       "cystic fibrosis                              0         0         0       0   \n",
       "dementia                                     1         0         0       2   \n",
       "hiv                                          5        11        12      11   \n",
       "hypertension                                 7        46        26      22   \n",
       "immunosuppressive agents                     1         1         0       0   \n",
       "liver diseases                               0         3         2       3   \n",
       "pulmonary fibrosis                           0         1         0       0   \n",
       "thalassemia                                  0         0         0       0   \n",
       "\n",
       "covid symptoms                      headache  myalgia  ageusia  confusion  \\\n",
       "acquired immunodeficiency syndrome         0        0        0          0   \n",
       "asthma                                    11       15        9          2   \n",
       "bone marrow transplantation                0        0        0          0   \n",
       "cerebrovascular disorders                 35       15       10          8   \n",
       "cystic fibrosis                            0        0        0          0   \n",
       "dementia                                   4        1        1         10   \n",
       "hiv                                       15       16        9          2   \n",
       "hypertension                              75       57        6         11   \n",
       "immunosuppressive agents                   0        0        1          0   \n",
       "liver diseases                             1        2        0          0   \n",
       "pulmonary fibrosis                         1        0        1          1   \n",
       "thalassemia                                0        0        0          0   \n",
       "\n",
       "covid symptoms                      chest pain  anosmia  cyanosis  hypersomnia  \n",
       "acquired immunodeficiency syndrome           0        0         0            0  \n",
       "asthma                                      11       13         1            0  \n",
       "bone marrow transplantation                  0        0         0            0  \n",
       "cerebrovascular disorders                    0       16         0            0  \n",
       "cystic fibrosis                              0        0         0            0  \n",
       "dementia                                     0        3         0            0  \n",
       "hiv                                          7        9         0            0  \n",
       "hypertension                                30       38         5            0  \n",
       "immunosuppressive agents                     0        1         0            0  \n",
       "liver diseases                               0        1         0            0  \n",
       "pulmonary fibrosis                           0        0         0            0  \n",
       "thalassemia                                  0        0         0            0  "
      ]
     },
     "execution_count": 80,
     "metadata": {},
     "output_type": "execute_result"
    }
   ],
   "source": [
    "tcdf = cdf.T\n",
    "tcdf = tcdf.sort_index()\n",
    "tcdf"
   ]
  },
  {
   "cell_type": "code",
   "execution_count": 81,
   "metadata": {},
   "outputs": [],
   "source": [
    "tcdf.to_csv(\"result/covid-comorb-minor.csv\")"
   ]
  },
  {
   "cell_type": "code",
   "execution_count": 82,
   "metadata": {},
   "outputs": [
    {
     "data": {
      "text/plain": [
       "asthma                                 281\n",
       "hypertension                          1425\n",
       "thalassemia                              8\n",
       "cerebrovascular disorders              183\n",
       "liver diseases                          31\n",
       "hiv                                    258\n",
       "immunosuppressive agents                17\n",
       "bone marrow transplantation              5\n",
       "cystic fibrosis                          2\n",
       "pulmonary fibrosis                      49\n",
       "dementia                                57\n",
       "acquired immunodeficiency syndrome       0\n",
       "dtype: int64"
      ]
     },
     "execution_count": 82,
     "metadata": {},
     "output_type": "execute_result"
    }
   ],
   "source": [
    "cdf.sum()"
   ]
  },
  {
   "cell_type": "code",
   "execution_count": 83,
   "metadata": {},
   "outputs": [
    {
     "data": {
      "image/png": "[encoded data removed]",
      "text/plain": [
       "<Figure size 1080x864 with 2 Axes>"
      ]
     },
     "metadata": {},
     "output_type": "display_data"
    }
   ],
   "source": [
    "import matplotlib\n",
    "import matplotlib.pyplot as plt\n",
    "import seaborn as sns\n",
    "sns.set()\n",
    "\n",
    "matplotlib.rcParams.update({'font.size': 13})\n",
    "plt.rcParams['xtick.top'] = plt.rcParams['xtick.labeltop'] = True\n",
    "\n",
    "plt.figure(figsize = [15,12])\n",
    "\n",
    "#idf = newdf.set_index(\"name\")\n",
    "sns.heatmap(tcdf, annot=True, cmap = \"YlGnBu\", fmt = \"d\")\n",
    "\n",
    "\n",
    "plt.rc('xtick', labelsize=25)    # fontsize of the tick labels\n",
    "plt.rc('ytick', labelsize=25)    # fontsize of the tick labels\n",
    "\n",
    "plt.savefig(\"plots/heatmap_comorb_minor.png\")"
   ]
  },
  {
   "cell_type": "code",
   "execution_count": null,
   "metadata": {},
   "outputs": [],
   "source": []
  },
  {
   "cell_type": "code",
   "execution_count": null,
   "metadata": {},
   "outputs": [],
   "source": []
  },
  {
   "cell_type": "code",
   "execution_count": null,
   "metadata": {},
   "outputs": [],
   "source": []
  },
  {
   "cell_type": "code",
   "execution_count": null,
   "metadata": {},
   "outputs": [],
   "source": []
  },
  {
   "cell_type": "code",
   "execution_count": null,
   "metadata": {},
   "outputs": [],
   "source": []
  },
  {
   "cell_type": "code",
   "execution_count": null,
   "metadata": {},
   "outputs": [],
   "source": []
  }
 ],
 "metadata": {
  "kernelspec": {
   "display_name": "Python 3",
   "language": "python",
   "name": "python3"
  },
  "language_info": {
   "codemirror_mode": {
    "name": "ipython",
    "version": 3
   },
   "file_extension": ".py",
   "mimetype": "text/x-python",
   "name": "python",
   "nbconvert_exporter": "python",
   "pygments_lexer": "ipython3",
   "version": "3.6.6"
  }
 },
 "nbformat": 4,
 "nbformat_minor": 2
}
