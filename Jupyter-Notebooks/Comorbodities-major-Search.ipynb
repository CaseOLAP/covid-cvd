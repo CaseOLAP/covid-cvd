{
 "cells": [
  {
   "cell_type": "markdown",
   "metadata": {},
   "source": [
    "## Document Search : Comorbidities"
   ]
  },
  {
   "cell_type": "code",
   "execution_count": 17,
   "metadata": {},
   "outputs": [],
   "source": [
    "import sys\n",
    "import json\n",
    "import pandas as pd\n",
    "from elasticsearch import Elasticsearch\n",
    "from elasticsearch_dsl import Search, Q\n",
    "from collections import Counter"
   ]
  },
  {
   "cell_type": "markdown",
   "metadata": {},
   "source": [
    "#### Comorbidities dataset"
   ]
  },
  {
   "cell_type": "code",
   "execution_count": 18,
   "metadata": {},
   "outputs": [],
   "source": [
    "with open(\"input/comorb-major.json\",'r')as fin:\n",
    "    comorb = json.load(fin)"
   ]
  },
  {
   "cell_type": "markdown",
   "metadata": {},
   "source": [
    "#### Upload Covid-19 Corpus"
   ]
  },
  {
   "cell_type": "code",
   "execution_count": 19,
   "metadata": {},
   "outputs": [],
   "source": [
    "with open('data/t2pmid-covid.json','r')as f2:\n",
    "    t2pmid = json.load(f2)"
   ]
  },
  {
   "cell_type": "code",
   "execution_count": 20,
   "metadata": {},
   "outputs": [
    {
     "data": {
      "text/html": [
       "<div>\n",
       "<style scoped>\n",
       "    .dataframe tbody tr th:only-of-type {\n",
       "        vertical-align: middle;\n",
       "    }\n",
       "\n",
       "    .dataframe tbody tr th {\n",
       "        vertical-align: top;\n",
       "    }\n",
       "\n",
       "    .dataframe thead th {\n",
       "        text-align: right;\n",
       "    }\n",
       "</style>\n",
       "<table border=\"1\" class=\"dataframe\">\n",
       "  <thead>\n",
       "    <tr style=\"text-align: right;\">\n",
       "      <th></th>\n",
       "      <th>pmid</th>\n",
       "      <th>mesh</th>\n",
       "      <th>date</th>\n",
       "      <th>title</th>\n",
       "      <th>abstract</th>\n",
       "    </tr>\n",
       "  </thead>\n",
       "  <tbody>\n",
       "    <tr>\n",
       "      <th>0</th>\n",
       "      <td>32071063</td>\n",
       "      <td>[]</td>\n",
       "      <td>{'Year': '2020', 'Month': 'Feb', 'Day': '18', ...</td>\n",
       "      <td>Coronavirus covid-19 has killed more people th...</td>\n",
       "      <td></td>\n",
       "    </tr>\n",
       "    <tr>\n",
       "      <th>1</th>\n",
       "      <td>32072794</td>\n",
       "      <td>[]</td>\n",
       "      <td>{'Year': '2020', 'Month': '02', 'Day': '19', '...</td>\n",
       "      <td>[Cluster investigation Technical Guidelines fo...</td>\n",
       "      <td></td>\n",
       "    </tr>\n",
       "    <tr>\n",
       "      <th>2</th>\n",
       "      <td>32086235</td>\n",
       "      <td>[]</td>\n",
       "      <td>{'Year': '2020', 'Month': 'Feb', 'Day': '21', ...</td>\n",
       "      <td>Rules on isolation rooms for suspected covid-1...</td>\n",
       "      <td></td>\n",
       "    </tr>\n",
       "    <tr>\n",
       "      <th>3</th>\n",
       "      <td>32087216</td>\n",
       "      <td>['Betacoronavirus', 'genetics', 'pathogenicity...</td>\n",
       "      <td>{'Year': '2020', 'Month': '04', 'Day': '', 'Se...</td>\n",
       "      <td>A Novel Coronavirus (COVID-19) Outbreak: A Cal...</td>\n",
       "      <td></td>\n",
       "    </tr>\n",
       "    <tr>\n",
       "      <th>4</th>\n",
       "      <td>32093043</td>\n",
       "      <td>[]</td>\n",
       "      <td>{'Year': '2020', 'Month': 'Feb', 'Day': '19', ...</td>\n",
       "      <td>Risk Assessment of Novel Coronavirus COVID-19 ...</td>\n",
       "      <td>we developed a computational tool to assess th...</td>\n",
       "    </tr>\n",
       "  </tbody>\n",
       "</table>\n",
       "</div>"
      ],
      "text/plain": [
       "       pmid                                               mesh  \\\n",
       "0  32071063                                                 []   \n",
       "1  32072794                                                 []   \n",
       "2  32086235                                                 []   \n",
       "3  32087216  ['Betacoronavirus', 'genetics', 'pathogenicity...   \n",
       "4  32093043                                                 []   \n",
       "\n",
       "                                                date  \\\n",
       "0  {'Year': '2020', 'Month': 'Feb', 'Day': '18', ...   \n",
       "1  {'Year': '2020', 'Month': '02', 'Day': '19', '...   \n",
       "2  {'Year': '2020', 'Month': 'Feb', 'Day': '21', ...   \n",
       "3  {'Year': '2020', 'Month': '04', 'Day': '', 'Se...   \n",
       "4  {'Year': '2020', 'Month': 'Feb', 'Day': '19', ...   \n",
       "\n",
       "                                               title  \\\n",
       "0  Coronavirus covid-19 has killed more people th...   \n",
       "1  [Cluster investigation Technical Guidelines fo...   \n",
       "2  Rules on isolation rooms for suspected covid-1...   \n",
       "3  A Novel Coronavirus (COVID-19) Outbreak: A Cal...   \n",
       "4  Risk Assessment of Novel Coronavirus COVID-19 ...   \n",
       "\n",
       "                                            abstract  \n",
       "0                                                     \n",
       "1                                                     \n",
       "2                                                     \n",
       "3                                                     \n",
       "4  we developed a computational tool to assess th...  "
      ]
     },
     "execution_count": 20,
     "metadata": {},
     "output_type": "execute_result"
    }
   ],
   "source": [
    "tdf = pd.DataFrame(t2pmid)\n",
    "tdf.head()"
   ]
  },
  {
   "cell_type": "code",
   "execution_count": 21,
   "metadata": {},
   "outputs": [
    {
     "data": {
      "text/plain": [
       "(80732, 5)"
      ]
     },
     "execution_count": 21,
     "metadata": {},
     "output_type": "execute_result"
    }
   ],
   "source": [
    "tdf.shape"
   ]
  },
  {
   "cell_type": "code",
   "execution_count": 22,
   "metadata": {},
   "outputs": [
    {
     "data": {
      "text/plain": [
       "80732"
      ]
     },
     "execution_count": 22,
     "metadata": {},
     "output_type": "execute_result"
    }
   ],
   "source": [
    "covid_pmids = list(set(tdf['pmid']))\n",
    "len(covid_pmids)"
   ]
  },
  {
   "cell_type": "markdown",
   "metadata": {},
   "source": [
    "#### Count Documents for Comorbidities (Major)"
   ]
  },
  {
   "cell_type": "code",
   "execution_count": 23,
   "metadata": {},
   "outputs": [],
   "source": [
    "n2count = {}\n",
    "n2pmid = {}\n",
    "n2pmidset = {}\n",
    "allpmids = []\n",
    "for name in comorb:\n",
    "    n2count[name] = 0\n",
    "    n2pmid[name] = 0\n",
    "    n2pmidset[name] = []\n",
    "    \n",
    "text = \"\"            \n",
    "for pmid,title,abstract,mesh in  zip(tdf['pmid'],tdf['title'],tdf['abstract'],tdf['mesh']):\n",
    "    \n",
    "        \n",
    "    for name, entities in comorb.items():\n",
    "        tn = 0\n",
    "        for entity in entities:\n",
    "            \n",
    "            n_title = title.count(entity)\n",
    "            tn = tn+n_title\n",
    "            \n",
    "            if len(abstract)>1:\n",
    "                text = abstract\n",
    "                \n",
    "            n_abs = text.count(entity)\n",
    "            tn = tn+n_abs\n",
    "            \n",
    "            n_mesh = mesh.count(entity)\n",
    "            tn = tn+n_mesh\n",
    "            \n",
    "        n2count[name] = n2count[name] + tn\n",
    "        \n",
    "        if tn>0:\n",
    "            n2pmid[name] = n2pmid[name] + 1\n",
    "            n2pmidset[name].append(pmid)\n",
    "            allpmids.append(pmid)\n",
    "                "
   ]
  },
  {
   "cell_type": "code",
   "execution_count": 24,
   "metadata": {},
   "outputs": [],
   "source": [
    "with open('result/name2pmidset-comorb-major.json','w')as f3:\n",
    "    json.dump(n2pmidset,f3)"
   ]
  },
  {
   "cell_type": "code",
   "execution_count": 25,
   "metadata": {},
   "outputs": [
    {
     "data": {
      "text/plain": [
       "8923"
      ]
     },
     "execution_count": 25,
     "metadata": {},
     "output_type": "execute_result"
    }
   ],
   "source": [
    "len(set(allpmids))"
   ]
  },
  {
   "cell_type": "markdown",
   "metadata": {},
   "source": [
    "#### Counting Covid-19 Documents for individual Comorbidities (Major)"
   ]
  },
  {
   "cell_type": "code",
   "execution_count": 13,
   "metadata": {},
   "outputs": [],
   "source": [
    "Data = []\n",
    "for name, count in n2pmid.items():\n",
    "    Data.append({\"Name\":name,\"Text Datasets\": count})\n",
    "    \n",
    "df = pd.DataFrame(Data)\n",
    "df = df.set_index(\"Name\")\n",
    "df.to_csv(\"result/comorb-count-major.csv\")"
   ]
  },
  {
   "cell_type": "code",
   "execution_count": 14,
   "metadata": {},
   "outputs": [
    {
     "data": {
      "text/html": [
       "<div>\n",
       "<style scoped>\n",
       "    .dataframe tbody tr th:only-of-type {\n",
       "        vertical-align: middle;\n",
       "    }\n",
       "\n",
       "    .dataframe tbody tr th {\n",
       "        vertical-align: top;\n",
       "    }\n",
       "\n",
       "    .dataframe thead th {\n",
       "        text-align: right;\n",
       "    }\n",
       "</style>\n",
       "<table border=\"1\" class=\"dataframe\">\n",
       "  <thead>\n",
       "    <tr style=\"text-align: right;\">\n",
       "      <th></th>\n",
       "      <th>Text Datasets</th>\n",
       "    </tr>\n",
       "    <tr>\n",
       "      <th>Name</th>\n",
       "      <th></th>\n",
       "    </tr>\n",
       "  </thead>\n",
       "  <tbody>\n",
       "    <tr>\n",
       "      <th>pregnancy</th>\n",
       "      <td>1289</td>\n",
       "    </tr>\n",
       "    <tr>\n",
       "      <th>transplantation</th>\n",
       "      <td>1411</td>\n",
       "    </tr>\n",
       "    <tr>\n",
       "      <th>smoking</th>\n",
       "      <td>699</td>\n",
       "    </tr>\n",
       "    <tr>\n",
       "      <th>cardiovascular diseases</th>\n",
       "      <td>1240</td>\n",
       "    </tr>\n",
       "    <tr>\n",
       "      <th>obesity</th>\n",
       "      <td>1670</td>\n",
       "    </tr>\n",
       "    <tr>\n",
       "      <th>pulmonary disease, chronic obstructive</th>\n",
       "      <td>1127</td>\n",
       "    </tr>\n",
       "    <tr>\n",
       "      <th>neoplasms</th>\n",
       "      <td>1561</td>\n",
       "    </tr>\n",
       "    <tr>\n",
       "      <th>diabetes mellitus, type 2</th>\n",
       "      <td>823</td>\n",
       "    </tr>\n",
       "    <tr>\n",
       "      <th>kidney diseases</th>\n",
       "      <td>762</td>\n",
       "    </tr>\n",
       "    <tr>\n",
       "      <th>down syndrome</th>\n",
       "      <td>25</td>\n",
       "    </tr>\n",
       "  </tbody>\n",
       "</table>\n",
       "</div>"
      ],
      "text/plain": [
       "                                        Text Datasets\n",
       "Name                                                 \n",
       "pregnancy                                        1289\n",
       "transplantation                                  1411\n",
       "smoking                                           699\n",
       "cardiovascular diseases                          1240\n",
       "obesity                                          1670\n",
       "pulmonary disease, chronic obstructive           1127\n",
       "neoplasms                                        1561\n",
       "diabetes mellitus, type 2                         823\n",
       "kidney diseases                                   762\n",
       "down syndrome                                      25"
      ]
     },
     "execution_count": 14,
     "metadata": {},
     "output_type": "execute_result"
    }
   ],
   "source": [
    "df"
   ]
  },
  {
   "cell_type": "markdown",
   "metadata": {},
   "source": [
    "#### Co-occurance of Covid Symptoms and Comorb"
   ]
  },
  {
   "cell_type": "code",
   "execution_count": 85,
   "metadata": {},
   "outputs": [],
   "source": [
    "with open('result/name2pmidset-covid.json','r')as f4:\n",
    "    n2pmidset_covid = json.load(f4)"
   ]
  },
  {
   "cell_type": "code",
   "execution_count": 86,
   "metadata": {},
   "outputs": [],
   "source": [
    "Data = []\n",
    "allpmid = []\n",
    "for name1, pmids1 in n2pmidset_covid.items():\n",
    "    data = {}\n",
    "    data.update({\"covid symptoms\" : name1})\n",
    "                \n",
    "    for name2, pmids2 in n2pmidset.items():\n",
    "        ints = set(pmids1).intersection(set(pmids2))\n",
    "        \n",
    "        for item in list(ints):\n",
    "            allpmid.append(item)\n",
    "            \n",
    "        data.update({name2:len(set(ints))})\n",
    "    \n",
    "    Data.append(data)\n",
    "        "
   ]
  },
  {
   "cell_type": "code",
   "execution_count": 87,
   "metadata": {},
   "outputs": [
    {
     "data": {
      "text/plain": [
       "1207"
      ]
     },
     "execution_count": 87,
     "metadata": {},
     "output_type": "execute_result"
    }
   ],
   "source": [
    "len(list(set(allpmid)))"
   ]
  },
  {
   "cell_type": "code",
   "execution_count": 88,
   "metadata": {},
   "outputs": [],
   "source": [
    "cdf = pd.DataFrame(Data)\n",
    "#cdf.to_csv(\"covid-comorb-major.csv\")"
   ]
  },
  {
   "cell_type": "code",
   "execution_count": 89,
   "metadata": {},
   "outputs": [],
   "source": [
    "cdf = cdf.set_index(\"covid symptoms\")"
   ]
  },
  {
   "cell_type": "code",
   "execution_count": 90,
   "metadata": {},
   "outputs": [
    {
     "data": {
      "text/html": [
       "<div>\n",
       "<style scoped>\n",
       "    .dataframe tbody tr th:only-of-type {\n",
       "        vertical-align: middle;\n",
       "    }\n",
       "\n",
       "    .dataframe tbody tr th {\n",
       "        vertical-align: top;\n",
       "    }\n",
       "\n",
       "    .dataframe thead th {\n",
       "        text-align: right;\n",
       "    }\n",
       "</style>\n",
       "<table border=\"1\" class=\"dataframe\">\n",
       "  <thead>\n",
       "    <tr style=\"text-align: right;\">\n",
       "      <th>covid symptoms</th>\n",
       "      <th>fever</th>\n",
       "      <th>chills</th>\n",
       "      <th>cough</th>\n",
       "      <th>fatigue</th>\n",
       "      <th>shortness of breath</th>\n",
       "      <th>sore throat</th>\n",
       "      <th>rhinorrhea</th>\n",
       "      <th>diarrhea</th>\n",
       "      <th>vomiting</th>\n",
       "      <th>nausea</th>\n",
       "      <th>headache</th>\n",
       "      <th>myalgia</th>\n",
       "      <th>ageusia</th>\n",
       "      <th>confusion</th>\n",
       "      <th>chest pain</th>\n",
       "      <th>anosmia</th>\n",
       "      <th>cyanosis</th>\n",
       "      <th>hypersomnia</th>\n",
       "    </tr>\n",
       "  </thead>\n",
       "  <tbody>\n",
       "    <tr>\n",
       "      <th>cardiovascular diseases</th>\n",
       "      <td>85</td>\n",
       "      <td>7</td>\n",
       "      <td>53</td>\n",
       "      <td>20</td>\n",
       "      <td>89</td>\n",
       "      <td>6</td>\n",
       "      <td>0</td>\n",
       "      <td>9</td>\n",
       "      <td>7</td>\n",
       "      <td>7</td>\n",
       "      <td>8</td>\n",
       "      <td>10</td>\n",
       "      <td>3</td>\n",
       "      <td>2</td>\n",
       "      <td>20</td>\n",
       "      <td>8</td>\n",
       "      <td>1</td>\n",
       "      <td>0</td>\n",
       "    </tr>\n",
       "    <tr>\n",
       "      <th>diabetes mellitus, type 2</th>\n",
       "      <td>130</td>\n",
       "      <td>5</td>\n",
       "      <td>118</td>\n",
       "      <td>21</td>\n",
       "      <td>103</td>\n",
       "      <td>18</td>\n",
       "      <td>4</td>\n",
       "      <td>19</td>\n",
       "      <td>7</td>\n",
       "      <td>7</td>\n",
       "      <td>15</td>\n",
       "      <td>16</td>\n",
       "      <td>5</td>\n",
       "      <td>0</td>\n",
       "      <td>17</td>\n",
       "      <td>17</td>\n",
       "      <td>0</td>\n",
       "      <td>0</td>\n",
       "    </tr>\n",
       "    <tr>\n",
       "      <th>down syndrome</th>\n",
       "      <td>2</td>\n",
       "      <td>0</td>\n",
       "      <td>2</td>\n",
       "      <td>0</td>\n",
       "      <td>1</td>\n",
       "      <td>0</td>\n",
       "      <td>0</td>\n",
       "      <td>0</td>\n",
       "      <td>0</td>\n",
       "      <td>1</td>\n",
       "      <td>0</td>\n",
       "      <td>0</td>\n",
       "      <td>0</td>\n",
       "      <td>1</td>\n",
       "      <td>0</td>\n",
       "      <td>0</td>\n",
       "      <td>0</td>\n",
       "      <td>0</td>\n",
       "    </tr>\n",
       "    <tr>\n",
       "      <th>kidney diseases</th>\n",
       "      <td>104</td>\n",
       "      <td>3</td>\n",
       "      <td>79</td>\n",
       "      <td>21</td>\n",
       "      <td>73</td>\n",
       "      <td>11</td>\n",
       "      <td>1</td>\n",
       "      <td>13</td>\n",
       "      <td>8</td>\n",
       "      <td>6</td>\n",
       "      <td>9</td>\n",
       "      <td>7</td>\n",
       "      <td>1</td>\n",
       "      <td>0</td>\n",
       "      <td>3</td>\n",
       "      <td>11</td>\n",
       "      <td>0</td>\n",
       "      <td>0</td>\n",
       "    </tr>\n",
       "    <tr>\n",
       "      <th>neoplasms</th>\n",
       "      <td>62</td>\n",
       "      <td>10</td>\n",
       "      <td>22</td>\n",
       "      <td>15</td>\n",
       "      <td>28</td>\n",
       "      <td>0</td>\n",
       "      <td>2</td>\n",
       "      <td>5</td>\n",
       "      <td>11</td>\n",
       "      <td>6</td>\n",
       "      <td>13</td>\n",
       "      <td>3</td>\n",
       "      <td>4</td>\n",
       "      <td>3</td>\n",
       "      <td>0</td>\n",
       "      <td>6</td>\n",
       "      <td>0</td>\n",
       "      <td>0</td>\n",
       "    </tr>\n",
       "    <tr>\n",
       "      <th>obesity</th>\n",
       "      <td>137</td>\n",
       "      <td>14</td>\n",
       "      <td>91</td>\n",
       "      <td>18</td>\n",
       "      <td>66</td>\n",
       "      <td>5</td>\n",
       "      <td>2</td>\n",
       "      <td>14</td>\n",
       "      <td>5</td>\n",
       "      <td>4</td>\n",
       "      <td>11</td>\n",
       "      <td>13</td>\n",
       "      <td>8</td>\n",
       "      <td>4</td>\n",
       "      <td>14</td>\n",
       "      <td>19</td>\n",
       "      <td>0</td>\n",
       "      <td>0</td>\n",
       "    </tr>\n",
       "    <tr>\n",
       "      <th>pregnancy</th>\n",
       "      <td>159</td>\n",
       "      <td>13</td>\n",
       "      <td>124</td>\n",
       "      <td>24</td>\n",
       "      <td>74</td>\n",
       "      <td>10</td>\n",
       "      <td>3</td>\n",
       "      <td>18</td>\n",
       "      <td>23</td>\n",
       "      <td>14</td>\n",
       "      <td>25</td>\n",
       "      <td>36</td>\n",
       "      <td>1</td>\n",
       "      <td>0</td>\n",
       "      <td>5</td>\n",
       "      <td>12</td>\n",
       "      <td>0</td>\n",
       "      <td>0</td>\n",
       "    </tr>\n",
       "    <tr>\n",
       "      <th>pulmonary disease, chronic obstructive</th>\n",
       "      <td>112</td>\n",
       "      <td>4</td>\n",
       "      <td>99</td>\n",
       "      <td>37</td>\n",
       "      <td>111</td>\n",
       "      <td>15</td>\n",
       "      <td>5</td>\n",
       "      <td>15</td>\n",
       "      <td>10</td>\n",
       "      <td>9</td>\n",
       "      <td>24</td>\n",
       "      <td>21</td>\n",
       "      <td>3</td>\n",
       "      <td>10</td>\n",
       "      <td>9</td>\n",
       "      <td>18</td>\n",
       "      <td>0</td>\n",
       "      <td>0</td>\n",
       "    </tr>\n",
       "    <tr>\n",
       "      <th>smoking</th>\n",
       "      <td>55</td>\n",
       "      <td>3</td>\n",
       "      <td>42</td>\n",
       "      <td>13</td>\n",
       "      <td>41</td>\n",
       "      <td>4</td>\n",
       "      <td>3</td>\n",
       "      <td>9</td>\n",
       "      <td>3</td>\n",
       "      <td>5</td>\n",
       "      <td>11</td>\n",
       "      <td>9</td>\n",
       "      <td>2</td>\n",
       "      <td>3</td>\n",
       "      <td>8</td>\n",
       "      <td>11</td>\n",
       "      <td>0</td>\n",
       "      <td>0</td>\n",
       "    </tr>\n",
       "    <tr>\n",
       "      <th>transplantation</th>\n",
       "      <td>156</td>\n",
       "      <td>13</td>\n",
       "      <td>83</td>\n",
       "      <td>21</td>\n",
       "      <td>54</td>\n",
       "      <td>5</td>\n",
       "      <td>6</td>\n",
       "      <td>31</td>\n",
       "      <td>10</td>\n",
       "      <td>8</td>\n",
       "      <td>7</td>\n",
       "      <td>10</td>\n",
       "      <td>2</td>\n",
       "      <td>3</td>\n",
       "      <td>3</td>\n",
       "      <td>8</td>\n",
       "      <td>0</td>\n",
       "      <td>0</td>\n",
       "    </tr>\n",
       "  </tbody>\n",
       "</table>\n",
       "</div>"
      ],
      "text/plain": [
       "covid symptoms                          fever  chills  cough  fatigue  \\\n",
       "cardiovascular diseases                    85       7     53       20   \n",
       "diabetes mellitus, type 2                 130       5    118       21   \n",
       "down syndrome                               2       0      2        0   \n",
       "kidney diseases                           104       3     79       21   \n",
       "neoplasms                                  62      10     22       15   \n",
       "obesity                                   137      14     91       18   \n",
       "pregnancy                                 159      13    124       24   \n",
       "pulmonary disease, chronic obstructive    112       4     99       37   \n",
       "smoking                                    55       3     42       13   \n",
       "transplantation                           156      13     83       21   \n",
       "\n",
       "covid symptoms                          shortness of breath  sore throat   \\\n",
       "cardiovascular diseases                                  89             6   \n",
       "diabetes mellitus, type 2                               103            18   \n",
       "down syndrome                                             1             0   \n",
       "kidney diseases                                          73            11   \n",
       "neoplasms                                                28             0   \n",
       "obesity                                                  66             5   \n",
       "pregnancy                                                74            10   \n",
       "pulmonary disease, chronic obstructive                  111            15   \n",
       "smoking                                                  41             4   \n",
       "transplantation                                          54             5   \n",
       "\n",
       "covid symptoms                          rhinorrhea  diarrhea  vomiting  \\\n",
       "cardiovascular diseases                          0         9         7   \n",
       "diabetes mellitus, type 2                        4        19         7   \n",
       "down syndrome                                    0         0         0   \n",
       "kidney diseases                                  1        13         8   \n",
       "neoplasms                                        2         5        11   \n",
       "obesity                                          2        14         5   \n",
       "pregnancy                                        3        18        23   \n",
       "pulmonary disease, chronic obstructive           5        15        10   \n",
       "smoking                                          3         9         3   \n",
       "transplantation                                  6        31        10   \n",
       "\n",
       "covid symptoms                          nausea  headache  myalgia  ageusia  \\\n",
       "cardiovascular diseases                      7         8       10        3   \n",
       "diabetes mellitus, type 2                    7        15       16        5   \n",
       "down syndrome                                1         0        0        0   \n",
       "kidney diseases                              6         9        7        1   \n",
       "neoplasms                                    6        13        3        4   \n",
       "obesity                                      4        11       13        8   \n",
       "pregnancy                                   14        25       36        1   \n",
       "pulmonary disease, chronic obstructive       9        24       21        3   \n",
       "smoking                                      5        11        9        2   \n",
       "transplantation                              8         7       10        2   \n",
       "\n",
       "covid symptoms                          confusion  chest pain  anosmia  \\\n",
       "cardiovascular diseases                         2          20        8   \n",
       "diabetes mellitus, type 2                       0          17       17   \n",
       "down syndrome                                   1           0        0   \n",
       "kidney diseases                                 0           3       11   \n",
       "neoplasms                                       3           0        6   \n",
       "obesity                                         4          14       19   \n",
       "pregnancy                                       0           5       12   \n",
       "pulmonary disease, chronic obstructive         10           9       18   \n",
       "smoking                                         3           8       11   \n",
       "transplantation                                 3           3        8   \n",
       "\n",
       "covid symptoms                          cyanosis  hypersomnia  \n",
       "cardiovascular diseases                        1            0  \n",
       "diabetes mellitus, type 2                      0            0  \n",
       "down syndrome                                  0            0  \n",
       "kidney diseases                                0            0  \n",
       "neoplasms                                      0            0  \n",
       "obesity                                        0            0  \n",
       "pregnancy                                      0            0  \n",
       "pulmonary disease, chronic obstructive         0            0  \n",
       "smoking                                        0            0  \n",
       "transplantation                                0            0  "
      ]
     },
     "execution_count": 90,
     "metadata": {},
     "output_type": "execute_result"
    }
   ],
   "source": [
    "tcdf = cdf.T.sort_index()\n",
    "tcdf"
   ]
  },
  {
   "cell_type": "code",
   "execution_count": 92,
   "metadata": {},
   "outputs": [],
   "source": [
    "tcdf.to_csv(\"result/covid-comorb-major.csv\")"
   ]
  },
  {
   "cell_type": "code",
   "execution_count": 93,
   "metadata": {},
   "outputs": [
    {
     "data": {
      "text/plain": [
       "pregnancy                                 541\n",
       "transplantation                           420\n",
       "smoking                                   222\n",
       "cardiovascular diseases                   335\n",
       "obesity                                   425\n",
       "pulmonary disease, chronic obstructive    502\n",
       "neoplasms                                 190\n",
       "diabetes mellitus, type 2                 502\n",
       "kidney diseases                           350\n",
       "down syndrome                               7\n",
       "dtype: int64"
      ]
     },
     "execution_count": 93,
     "metadata": {},
     "output_type": "execute_result"
    }
   ],
   "source": [
    "cdf.sum()"
   ]
  },
  {
   "cell_type": "code",
   "execution_count": 94,
   "metadata": {},
   "outputs": [
    {
     "data": {
      "image/png": "[encoded data removed]",
      "text/plain": [
       "<Figure size 1080x864 with 2 Axes>"
      ]
     },
     "metadata": {},
     "output_type": "display_data"
    }
   ],
   "source": [
    "import matplotlib\n",
    "import matplotlib.pyplot as plt\n",
    "import seaborn as sns\n",
    "sns.set()\n",
    "\n",
    "matplotlib.rcParams.update({'font.size': 13})\n",
    "plt.rcParams['xtick.top'] = plt.rcParams['xtick.labeltop'] = True\n",
    "\n",
    "plt.figure(figsize = [15,12])\n",
    "\n",
    "#idf = newdf.set_index(\"name\")\n",
    "sns.heatmap(tcdf, annot=True, cmap = \"YlGnBu\", fmt = \"d\")\n",
    "\n",
    "\n",
    "plt.rc('xtick', labelsize=25)    # fontsize of the tick labels\n",
    "plt.rc('ytick', labelsize=25)    # fontsize of the tick labels\n",
    "\n",
    "plt.savefig(\"plots/heatmap_comorb_major.png\")"
   ]
  },
  {
   "cell_type": "code",
   "execution_count": null,
   "metadata": {},
   "outputs": [],
   "source": []
  },
  {
   "cell_type": "code",
   "execution_count": null,
   "metadata": {},
   "outputs": [],
   "source": []
  },
  {
   "cell_type": "code",
   "execution_count": null,
   "metadata": {},
   "outputs": [],
   "source": []
  },
  {
   "cell_type": "code",
   "execution_count": null,
   "metadata": {},
   "outputs": [],
   "source": []
  },
  {
   "cell_type": "code",
   "execution_count": null,
   "metadata": {},
   "outputs": [],
   "source": []
  },
  {
   "cell_type": "code",
   "execution_count": null,
   "metadata": {},
   "outputs": [],
   "source": []
  }
 ],
 "metadata": {
  "kernelspec": {
   "display_name": "Python 3",
   "language": "python",
   "name": "python3"
  },
  "language_info": {
   "codemirror_mode": {
    "name": "ipython",
    "version": 3
   },
   "file_extension": ".py",
   "mimetype": "text/x-python",
   "name": "python",
   "nbconvert_exporter": "python",
   "pygments_lexer": "ipython3",
   "version": "3.6.6"
  }
 },
 "nbformat": 4,
 "nbformat_minor": 2
}
