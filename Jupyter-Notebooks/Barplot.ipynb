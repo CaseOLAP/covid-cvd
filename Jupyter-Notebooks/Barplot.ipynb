{
 "cells": [
  {
   "cell_type": "markdown",
   "metadata": {},
   "source": [
    "### Bar-Plots"
   ]
  },
  {
   "cell_type": "code",
   "execution_count": 4,
   "metadata": {},
   "outputs": [],
   "source": [
    "import pandas as pd\n",
    "import numpy as np\n",
    "import json as json\n",
    "import matplotlib.pyplot as plt\n",
    "import seaborn as sns\n",
    "%matplotlib inline"
   ]
  },
  {
   "cell_type": "code",
   "execution_count": 5,
   "metadata": {},
   "outputs": [],
   "source": [
    "sns.set(font_scale=3.5)"
   ]
  },
  {
   "cell_type": "code",
   "execution_count": 6,
   "metadata": {},
   "outputs": [],
   "source": [
    "with open(\"data/id2name.json\",\"r\")as f:\n",
    "    id2name = json.load(f)"
   ]
  },
  {
   "cell_type": "markdown",
   "metadata": {},
   "source": [
    "### Data"
   ]
  },
  {
   "cell_type": "code",
   "execution_count": 7,
   "metadata": {},
   "outputs": [
    {
     "data": {
      "text/html": [
       "<div>\n",
       "<style scoped>\n",
       "    .dataframe tbody tr th:only-of-type {\n",
       "        vertical-align: middle;\n",
       "    }\n",
       "\n",
       "    .dataframe tbody tr th {\n",
       "        vertical-align: top;\n",
       "    }\n",
       "\n",
       "    .dataframe thead th {\n",
       "        text-align: right;\n",
       "    }\n",
       "</style>\n",
       "<table border=\"1\" class=\"dataframe\">\n",
       "  <thead>\n",
       "    <tr style=\"text-align: right;\">\n",
       "      <th></th>\n",
       "      <th>CM</th>\n",
       "      <th>ARR</th>\n",
       "      <th>CHD</th>\n",
       "      <th>VD</th>\n",
       "      <th>IHD</th>\n",
       "      <th>CCS</th>\n",
       "      <th>VOO</th>\n",
       "      <th>OHD</th>\n",
       "    </tr>\n",
       "    <tr>\n",
       "      <th>protein</th>\n",
       "      <th></th>\n",
       "      <th></th>\n",
       "      <th></th>\n",
       "      <th></th>\n",
       "      <th></th>\n",
       "      <th></th>\n",
       "      <th></th>\n",
       "      <th></th>\n",
       "    </tr>\n",
       "  </thead>\n",
       "  <tbody>\n",
       "    <tr>\n",
       "      <th>Q8NEJ9</th>\n",
       "      <td>0.014413</td>\n",
       "      <td>0.000000</td>\n",
       "      <td>0.000000</td>\n",
       "      <td>0.000000</td>\n",
       "      <td>0.015874</td>\n",
       "      <td>0.0</td>\n",
       "      <td>0.000000</td>\n",
       "      <td>0.012219</td>\n",
       "    </tr>\n",
       "    <tr>\n",
       "      <th>P05556</th>\n",
       "      <td>0.000000</td>\n",
       "      <td>0.000000</td>\n",
       "      <td>0.008619</td>\n",
       "      <td>0.000000</td>\n",
       "      <td>0.021017</td>\n",
       "      <td>0.0</td>\n",
       "      <td>0.000000</td>\n",
       "      <td>0.000000</td>\n",
       "    </tr>\n",
       "    <tr>\n",
       "      <th>Q9BQE4</th>\n",
       "      <td>0.000000</td>\n",
       "      <td>0.000000</td>\n",
       "      <td>0.008653</td>\n",
       "      <td>0.000000</td>\n",
       "      <td>0.012493</td>\n",
       "      <td>0.0</td>\n",
       "      <td>0.000000</td>\n",
       "      <td>0.000000</td>\n",
       "    </tr>\n",
       "    <tr>\n",
       "      <th>P38435</th>\n",
       "      <td>0.000000</td>\n",
       "      <td>0.000000</td>\n",
       "      <td>0.000000</td>\n",
       "      <td>0.000000</td>\n",
       "      <td>0.000000</td>\n",
       "      <td>0.0</td>\n",
       "      <td>0.000000</td>\n",
       "      <td>0.007688</td>\n",
       "    </tr>\n",
       "    <tr>\n",
       "      <th>P28300</th>\n",
       "      <td>0.076751</td>\n",
       "      <td>0.020829</td>\n",
       "      <td>0.029480</td>\n",
       "      <td>0.050782</td>\n",
       "      <td>0.038154</td>\n",
       "      <td>0.0</td>\n",
       "      <td>0.015673</td>\n",
       "      <td>0.047586</td>\n",
       "    </tr>\n",
       "  </tbody>\n",
       "</table>\n",
       "</div>"
      ],
      "text/plain": [
       "               CM       ARR       CHD        VD       IHD  CCS       VOO  \\\n",
       "protein                                                                    \n",
       "Q8NEJ9   0.014413  0.000000  0.000000  0.000000  0.015874  0.0  0.000000   \n",
       "P05556   0.000000  0.000000  0.008619  0.000000  0.021017  0.0  0.000000   \n",
       "Q9BQE4   0.000000  0.000000  0.008653  0.000000  0.012493  0.0  0.000000   \n",
       "P38435   0.000000  0.000000  0.000000  0.000000  0.000000  0.0  0.000000   \n",
       "P28300   0.076751  0.020829  0.029480  0.050782  0.038154  0.0  0.015673   \n",
       "\n",
       "              OHD  \n",
       "protein            \n",
       "Q8NEJ9   0.012219  \n",
       "P05556   0.000000  \n",
       "Q9BQE4   0.000000  \n",
       "P38435   0.007688  \n",
       "P28300   0.047586  "
      ]
     },
     "execution_count": 7,
     "metadata": {},
     "output_type": "execute_result"
    }
   ],
   "source": [
    "data = pd.read_csv('../result/caseolap.csv')\n",
    "data = data.set_index('protein')\n",
    "#def rearrang(olddf):\n",
    "#    col = ['Aged','Diabetes','Hyperlipidemias','Hypertension']\n",
    "#    newdf = pd.DataFrame()\n",
    "#    for t in col:\n",
    "#        newdf[t]= olddf[t]\n",
    "#    return newdf\n",
    "#ndf = rearrang(data)\n",
    "ndf = data\n",
    "ndf.head()"
   ]
  },
  {
   "cell_type": "code",
   "execution_count": 8,
   "metadata": {},
   "outputs": [
    {
     "data": {
      "text/plain": [
       "(96, 8)"
      ]
     },
     "execution_count": 8,
     "metadata": {},
     "output_type": "execute_result"
    }
   ],
   "source": [
    "ndf.shape"
   ]
  },
  {
   "cell_type": "code",
   "execution_count": 9,
   "metadata": {},
   "outputs": [],
   "source": [
    "allp = list(ndf.index)"
   ]
  },
  {
   "cell_type": "markdown",
   "metadata": {},
   "source": [
    "------------------"
   ]
  },
  {
   "cell_type": "markdown",
   "metadata": {},
   "source": [
    "#### Bar Plot"
   ]
  },
  {
   "cell_type": "code",
   "execution_count": 10,
   "metadata": {},
   "outputs": [
    {
     "data": {
      "text/html": [
       "<div>\n",
       "<style scoped>\n",
       "    .dataframe tbody tr th:only-of-type {\n",
       "        vertical-align: middle;\n",
       "    }\n",
       "\n",
       "    .dataframe tbody tr th {\n",
       "        vertical-align: top;\n",
       "    }\n",
       "\n",
       "    .dataframe thead th {\n",
       "        text-align: right;\n",
       "    }\n",
       "</style>\n",
       "<table border=\"1\" class=\"dataframe\">\n",
       "  <thead>\n",
       "    <tr style=\"text-align: right;\">\n",
       "      <th></th>\n",
       "      <th>CM</th>\n",
       "      <th>ARR</th>\n",
       "      <th>CHD</th>\n",
       "      <th>VD</th>\n",
       "      <th>IHD</th>\n",
       "      <th>CCS</th>\n",
       "      <th>VOO</th>\n",
       "      <th>OHD</th>\n",
       "    </tr>\n",
       "    <tr>\n",
       "      <th>protein</th>\n",
       "      <th></th>\n",
       "      <th></th>\n",
       "      <th></th>\n",
       "      <th></th>\n",
       "      <th></th>\n",
       "      <th></th>\n",
       "      <th></th>\n",
       "      <th></th>\n",
       "    </tr>\n",
       "  </thead>\n",
       "  <tbody>\n",
       "    <tr>\n",
       "      <th>Q9HD40</th>\n",
       "      <td>0.077532</td>\n",
       "      <td>0.087786</td>\n",
       "      <td>0.030097</td>\n",
       "      <td>0.140290</td>\n",
       "      <td>0.159544</td>\n",
       "      <td>0.145210</td>\n",
       "      <td>0.155744</td>\n",
       "      <td>0.038130</td>\n",
       "    </tr>\n",
       "    <tr>\n",
       "      <th>P16435</th>\n",
       "      <td>0.076345</td>\n",
       "      <td>0.191021</td>\n",
       "      <td>0.040195</td>\n",
       "      <td>0.030107</td>\n",
       "      <td>0.084096</td>\n",
       "      <td>0.142303</td>\n",
       "      <td>0.023649</td>\n",
       "      <td>0.201728</td>\n",
       "    </tr>\n",
       "    <tr>\n",
       "      <th>Q92820</th>\n",
       "      <td>0.197668</td>\n",
       "      <td>0.043178</td>\n",
       "      <td>0.242166</td>\n",
       "      <td>0.070638</td>\n",
       "      <td>0.080192</td>\n",
       "      <td>0.044248</td>\n",
       "      <td>0.008574</td>\n",
       "      <td>0.078173</td>\n",
       "    </tr>\n",
       "    <tr>\n",
       "      <th>P00750</th>\n",
       "      <td>0.097250</td>\n",
       "      <td>0.078262</td>\n",
       "      <td>0.044655</td>\n",
       "      <td>0.069327</td>\n",
       "      <td>0.234709</td>\n",
       "      <td>0.055376</td>\n",
       "      <td>0.025426</td>\n",
       "      <td>0.048787</td>\n",
       "    </tr>\n",
       "    <tr>\n",
       "      <th>P09601</th>\n",
       "      <td>0.253033</td>\n",
       "      <td>0.051767</td>\n",
       "      <td>0.014117</td>\n",
       "      <td>0.030106</td>\n",
       "      <td>0.156748</td>\n",
       "      <td>0.021659</td>\n",
       "      <td>0.024061</td>\n",
       "      <td>0.061653</td>\n",
       "    </tr>\n",
       "  </tbody>\n",
       "</table>\n",
       "</div>"
      ],
      "text/plain": [
       "               CM       ARR       CHD        VD       IHD       CCS       VOO  \\\n",
       "protein                                                                         \n",
       "Q9HD40   0.077532  0.087786  0.030097  0.140290  0.159544  0.145210  0.155744   \n",
       "P16435   0.076345  0.191021  0.040195  0.030107  0.084096  0.142303  0.023649   \n",
       "Q92820   0.197668  0.043178  0.242166  0.070638  0.080192  0.044248  0.008574   \n",
       "P00750   0.097250  0.078262  0.044655  0.069327  0.234709  0.055376  0.025426   \n",
       "P09601   0.253033  0.051767  0.014117  0.030106  0.156748  0.021659  0.024061   \n",
       "\n",
       "              OHD  \n",
       "protein            \n",
       "Q9HD40   0.038130  \n",
       "P16435   0.201728  \n",
       "Q92820   0.078173  \n",
       "P00750   0.048787  \n",
       "P09601   0.061653  "
      ]
     },
     "execution_count": 10,
     "metadata": {},
     "output_type": "execute_result"
    }
   ],
   "source": [
    "sdf = ndf.copy(deep = True)\n",
    "sdf['sum'] = sum([sdf[x] for x in sdf.columns])\n",
    "sdf  = sdf.sort_values( [\"sum\"],axis =0,ascending =False)\n",
    "sdf = sdf.drop([\"sum\"], axis = 1)\n",
    "sdf.head()"
   ]
  },
  {
   "cell_type": "code",
   "execution_count": 11,
   "metadata": {
    "scrolled": false
   },
   "outputs": [
    {
     "data": {
      "image/png": "[encoded data removed]",
      "text/plain": [
       "<Figure size 1008x720 with 1 Axes>"
      ]
     },
     "metadata": {},
     "output_type": "display_data"
    }
   ],
   "source": [
    "sdf[0:20].plot.barh(stacked=True,figsize=(14, 10),fontsize =15)\n",
    "plt.legend(fontsize=15)\n",
    "plt.gca().invert_yaxis()\n",
    "plt.xlabel('Scores',fontsize =15)\n",
    "plt.ylabel('Proteins',fontsize =15)\n",
    "plt.savefig('plots/barplot.pdf')\n",
    "plt.savefig('plots/barplot.png')"
   ]
  },
  {
   "cell_type": "code",
   "execution_count": 14,
   "metadata": {},
   "outputs": [],
   "source": [
    "names = []\n",
    "for item in sdf.index:\n",
    "    names.append(id2name[item])\n",
    "\n",
    "sdf['names'] =names"
   ]
  },
  {
   "cell_type": "code",
   "execution_count": 15,
   "metadata": {},
   "outputs": [],
   "source": [
    "sdf.to_csv(\"data/barplot-data.csv\")"
   ]
  },
  {
   "cell_type": "code",
   "execution_count": null,
   "metadata": {},
   "outputs": [],
   "source": []
  },
  {
   "cell_type": "code",
   "execution_count": null,
   "metadata": {},
   "outputs": [],
   "source": []
  },
  {
   "cell_type": "code",
   "execution_count": null,
   "metadata": {},
   "outputs": [],
   "source": []
  },
  {
   "cell_type": "code",
   "execution_count": null,
   "metadata": {},
   "outputs": [],
   "source": []
  }
 ],
 "metadata": {
  "kernelspec": {
   "display_name": "Python 3",
   "language": "python",
   "name": "python3"
  },
  "language_info": {
   "codemirror_mode": {
    "name": "ipython",
    "version": 3
   },
   "file_extension": ".py",
   "mimetype": "text/x-python",
   "name": "python",
   "nbconvert_exporter": "python",
   "pygments_lexer": "ipython3",
   "version": "3.6.6"
  },
  "widgets": {
   "state": {},
   "version": "1.1.2"
  }
 },
 "nbformat": 4,
 "nbformat_minor": 1
}
